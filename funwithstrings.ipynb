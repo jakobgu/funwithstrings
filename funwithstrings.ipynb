{
 "cells": [
  {
   "cell_type": "code",
   "execution_count": null,
   "metadata": {},
   "outputs": [
    {
     "name": "stdout",
     "output_type": "stream",
     "text": [
      "Hello! What's your first and last name?ja gu test\n",
      "Do you have more than one last name?\n"
     ]
    }
   ],
   "source": [
    "\n",
    "import random\n",
    "\n",
    "temp_name=input(\"Hello! What's your first and last name?\")\n",
    "if ' ' not in temp_name:\n",
    "    temp_name=input('Ooops. Did you forget something? Please type your first AND last name.')\n",
    "    \n",
    "if temp_name.count(' ')>1:\n",
    "    print('Do you have more than one last name?')\n",
    "    temp_name=input('Please type your full name while choosing only ONE of your last names.')\n",
    "\n",
    "gender=input('And are you [a] a gal, [b] a guy, or [c] not as easily defined?')\n",
    "gender=str.lower(gender)\n",
    "\n",
    "if 'a' in gender:\n",
    "    gender='female'\n",
    "elif 'b' in gender:\n",
    "    gender='male'\n",
    "elif 'c' in gender:\n",
    "    gender='more complicated'\n",
    "    \n",
    "first_name,last_name= temp_name.split()\n",
    "\n",
    "females=['Jessica Jones','Captain Marvel','Spider Woman','Kitty Pryde','The Invisible Woman','Storm','Jean Gray','Black Widow','Elektra','Enchantress','Rogue','She-Hulk','Scarlet Witch','Poison Ivy']\n",
    "males=['Luke Cage','Silver Surfer','Beast','The Thing','Doctor Strange','Black Panther','Nick Fury','Iron Man','Professor X','Hulk','Cyclops','Wolverine','Daredevil','Captain America','Spider Man']\n",
    "more_complicated=['Loki','Mystique','Ultron']\n",
    "\n",
    "if gender == 'male':\n",
    "    name_number=(random.randint(0,len(males)-1))\n",
    "    print(first_name + ' \"' + males[name_number] + '\" ' + last_name)\n",
    "elif gender =='female':\n",
    "    name_number=(random.randint(0,len(females)-1))\n",
    "    print(first_name + ' \"' + females[name_number] + '\" ' + last_name)\n",
    "elif gender =='more complicated':\n",
    "    name_number=(random.randint(0,len(more_complicated)-1))\n",
    "    print(first_name + ' \"' + more_complicated[name_number] + '\" ' + last_name)"
   ]
  },
  {
   "cell_type": "code",
   "execution_count": 6,
   "metadata": {},
   "outputs": [
    {
     "data": {
      "text/plain": [
       "2"
      ]
     },
     "execution_count": 6,
     "metadata": {},
     "output_type": "execute_result"
    }
   ],
   "source": []
  },
  {
   "cell_type": "code",
   "execution_count": null,
   "metadata": {},
   "outputs": [],
   "source": []
  }
 ],
 "metadata": {
  "kernelspec": {
   "display_name": "Python 3",
   "language": "python",
   "name": "python3"
  },
  "language_info": {
   "codemirror_mode": {
    "name": "ipython",
    "version": 3
   },
   "file_extension": ".py",
   "mimetype": "text/x-python",
   "name": "python",
   "nbconvert_exporter": "python",
   "pygments_lexer": "ipython3",
   "version": "3.6.2"
  }
 },
 "nbformat": 4,
 "nbformat_minor": 2
}
